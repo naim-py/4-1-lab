{
 "cells": [
  {
   "cell_type": "code",
   "execution_count": 1,
   "id": "f5ae8526-064d-4c15-bf02-956dee0ebdf2",
   "metadata": {},
   "outputs": [],
   "source": [
    "from PIL import Image\n",
    "import numpy as np\n",
    "\n",
    "def hill_cipher_encrypt(matrix, key):\n",
    "    key = np.array(key).reshape((3, 3))     # Convert the key to a numpy array\n",
    "    # Pad the matrix with zeros if necessary to make its dimensions multiples of 3\n",
    "    padded_matrix = np.pad(matrix, ((0, 3 - matrix.shape[0] % 3), (0, 3 - matrix.shape[1] % 3)), mode='constant') \n",
    "    reshaped_matrix = padded_matrix.reshape((-1, 3)) # Reshape the padded matrix to have dimensions that are multiples of 3\n",
    "    encrypted_matrix = np.dot(reshaped_matrix, key) % 256 #Multiply with Key\n",
    "    encrypted_matrix = encrypted_matrix.reshape(padded_matrix.shape) # Reshape the encrypted matrix back to the original shape of the padded matrix\n",
    "    encrypted_matrix = encrypted_matrix[:matrix.shape[0], :matrix.shape[1]] # Remove any padding that was added \n",
    "    return encrypted_matrix.astype(np.uint8)\n",
    "\n",
    "def hill_cipher_decrypt(matrix, key):\n",
    "    key = np.array(key).reshape((3, 3)) # Convert the key to a numpy array\n",
    "    inverted_key = np.linalg.inv(key) # inverting the key\n",
    "    # Pad the matrix with zeros if necessary to make its dimensions multiples of 3\n",
    "    padded_matrix = np.pad(matrix, ((0, 3 - matrix.shape[0] % 3), (0, 3 - matrix.shape[1] % 3)), mode='constant') \n",
    "    reshaped_matrix = padded_matrix.reshape((-1, 3)) # Reshaping the padded matrix\n",
    "    decrypted_matrix = np.dot(reshaped_matrix, inverted_key) % 256 # Multiply with key\n",
    "    decrypted_matrix = decrypted_matrix.reshape(padded_matrix.shape) # Reshape the decrypted matrix back to the original shape of the padded matrix\n",
    "    decrypted_matrix = decrypted_matrix[:matrix.shape[0], :matrix.shape[1]] # Remove any padding that was added\n",
    "    return decrypted_matrix.astype(np.uint8)\n",
    "\n",
    "# Load the image and convert it to a numpy array\n",
    "image = Image.open('demo_2.jpg') \n",
    "image_matrix = np.array(image)\n",
    "\n",
    "# Extracting data from each of the R,G,B colour channels\n",
    "r_channel = image_matrix[:, :, 0]\n",
    "g_channel = image_matrix[:, :, 1]\n",
    "b_channel = image_matrix[:, :, 2]\n",
    "\n",
    "key = [1, 2, 1, 2, 3, 2, 2, 2, 1] # 3x3 encryption key as colour scheme is RGB\n",
    "\n",
    "# Encrypting each colour channel\n",
    "encrypted_r_channel = hill_cipher_encrypt(r_channel, key)\n",
    "encrypted_g_channel = hill_cipher_encrypt(g_channel, key)\n",
    "encrypted_b_channel = hill_cipher_encrypt(b_channel, key)\n",
    "\n",
    "# Merge the encrypted channels into an image matrix and convert the image matrix to an image object and save\n",
    "encrypted_image_matrix = np.dstack((encrypted_r_channel, encrypted_g_channel, encrypted_b_channel))\n",
    "encrypted_image = Image.fromarray(encrypted_image_matrix)\n",
    "encrypted_image.save('encrypted_image.jpg')\n",
    "\n",
    "#Decrypt the encrypted colour channels using the Hill Cipher\n",
    "decrypted_r_channel = hill_cipher_decrypt(encrypted_r_channel, key)\n",
    "decrypted_g_channel = hill_cipher_decrypt(encrypted_g_channel, key)\n",
    "decrypted_b_channel = hill_cipher_decrypt(encrypted_b_channel, key)\n",
    "\n",
    "#Merge the decrypted RGB channels back into an image matrix and convert the decrypted matrix to an image and save.\n",
    "decrypted_image_matrix = np.dstack((decrypted_r_channel, decrypted_g_channel, decrypted_b_channel))\n",
    "decrypted_image = Image.fromarray(decrypted_image_matrix)\n",
    "decrypted_image.save('decrypted_image.jpg')"
   ]
  },
  {
   "cell_type": "code",
   "execution_count": null,
   "id": "fbaecc0b-bd56-4fa4-8529-e76f4df3069b",
   "metadata": {},
   "outputs": [],
   "source": []
  }
 ],
 "metadata": {
  "kernelspec": {
   "display_name": "Python 3 (ipykernel)",
   "language": "python",
   "name": "python3"
  },
  "language_info": {
   "codemirror_mode": {
    "name": "ipython",
    "version": 3
   },
   "file_extension": ".py",
   "mimetype": "text/x-python",
   "name": "python",
   "nbconvert_exporter": "python",
   "pygments_lexer": "ipython3",
   "version": "3.9.10"
  },
  "widgets": {
   "application/vnd.jupyter.widget-state+json": {
    "state": {},
    "version_major": 2,
    "version_minor": 0
   }
  }
 },
 "nbformat": 4,
 "nbformat_minor": 5
}
