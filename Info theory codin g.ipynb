{
 "cells": [
  {
   "cell_type": "markdown",
   "id": "867c6f61-9280-4439-8a2e-6210792ff457",
   "metadata": {},
   "source": [
    "# 1\n",
    "Enter symbol size:  4\r\n",
    "Enter array:  a b s d\r\n",
    "Enter probability:  30 20 50 40\r\n",
    "b ->: 00\r\n",
    "a ->: 01\r\n",
    "d ->: 10\r\n",
    "s ->: 11"
   ]
  },
  {
   "cell_type": "code",
   "execution_count": 1,
   "id": "ceca5ec6-0b3f-4964-b82a-87c62520bb46",
   "metadata": {},
   "outputs": [
    {
     "name": "stdin",
     "output_type": "stream",
     "text": [
      "Enter symbol size:  4\n",
      "Enter array:  a b c d\n",
      "Enter probability:  30 20 50 40\n"
     ]
    },
    {
     "name": "stdout",
     "output_type": "stream",
     "text": [
      "b ->: 00\n",
      "a ->: 01\n",
      "d ->: 10\n",
      "c ->: 11\n"
     ]
    }
   ],
   "source": [
    "import queue\n",
    "\n",
    "class Node:\n",
    "    def __init__(self, data, frequency):        #constructor method (initializer) for the Node class.\n",
    "        self.left = None                        # left right a kon child nai\n",
    "        self.right = None\n",
    "        self.data = data                        #values passed as arguments to the constructor.\n",
    "        self.frequency = frequency\n",
    "\n",
    "    def __lt__(self, other):\n",
    "        return self.frequency < other.frequency\n",
    "\n",
    "class Compare:\n",
    "    def __init__(self):\n",
    "        pass                            #pass is placeholder that syntactically required but no action is desired or necessary\n",
    "    \n",
    "    def __call__(self, L, R):\n",
    "        return L.frequency > R.frequency\n",
    "\n",
    "def print_codes(root, code):\n",
    "    if not root:\n",
    "        return\n",
    "    if root.data != '$':\n",
    "        print(root.data, \"->:\", code)\n",
    "    print_codes(root.left, code + '0')\n",
    "    print_codes(root.right, code + '1')\n",
    "\n",
    "def huffman_codes(vertices, frequencies, size):\n",
    "    left = right = top = None             #keep track of nodes\n",
    "\n",
    "    min_heap = queue.PriorityQueue()      #organize the nodes based on their frequencies.\n",
    "    for i in range(size):\n",
    "        min_heap.put(Node(vertices[i], frequencies[i]))\n",
    "\n",
    "    while min_heap.qsize() != 1:\n",
    "        left = min_heap.get()\n",
    "        right = min_heap.get()\n",
    "        top = Node('$', left.frequency + right.frequency) # merge minimum two frequency\n",
    "        top.left = left\n",
    "        top.right = right\n",
    "        min_heap.put(top)\n",
    "\n",
    "    print_codes(min_heap.queue[0], \"\")\n",
    "\n",
    "if __name__ == \"__main__\":\n",
    "    n = int(input(\"Enter symbol size: \"))\n",
    "    arr = input(\"Enter array: \").split()\n",
    "    freq = list(map(int, input(\"Enter probability: \").split()))\n",
    "\n",
    "    huffman_codes(arr, freq, n)\n"
   ]
  },
  {
   "cell_type": "code",
   "execution_count": 24,
   "id": "af3bf33c-45fc-42e5-b01f-49c70e1b3d1c",
   "metadata": {},
   "outputs": [
    {
     "name": "stdout",
     "output_type": "stream",
     "text": [
      "D -> 00\n",
      "B -> 01\n",
      "E -> 100\n",
      "A -> 101\n",
      "C -> 11\n"
     ]
    }
   ],
   "source": [
    "import heapq\n",
    "from collections import defaultdict, Counter\n",
    "\n",
    "\n",
    "def calculate_frequency(my_text):\n",
    "    my_text = my_text.upper().replace(' ', '')\n",
    "    frequency = dict(Counter(my_text))\n",
    "    return frequency\n",
    "\n",
    "\n",
    "def build_heap(freq):\n",
    "    heap = [[weight, [char, \"\"]] for char, weight in freq.items()]\n",
    "    heapq.heapify(heap)\n",
    "    return heap\n",
    "\n",
    "\n",
    "def build_tree(heap):\n",
    "    while len(heap) > 1:\n",
    "        lo = heapq.heappop(heap)\n",
    "        hi = heapq.heappop(heap)\n",
    "        for pair in lo[1:]:\n",
    "            pair[1] = '0' + pair[1]\n",
    "        for pair in hi[1:]:\n",
    "            pair[1] = '1' + pair[1]\n",
    "        heapq.heappush(heap, [lo[0] + hi[0]] + lo[1:] + hi[1:])\n",
    "    return heap[0]\n",
    "\n",
    "\n",
    "freq = calculate_frequency(\"aaabbbbbccccccddddee\")\n",
    "heap = build_heap(freq)\n",
    "tree = build_tree(heap)\n",
    "for pair in tree[1:]:\n",
    "    print(pair[0], '->', pair[1])"
   ]
  },
  {
   "cell_type": "markdown",
   "id": "0b174fb1-91d2-43b4-94ee-43ed6d2879e2",
   "metadata": {},
   "source": [
    "# 2 Convolution Coding\n",
    "Enter the path length and msg_length:  3 5\r\n",
    "Enter top path value: \r\n",
    " 1 1 1\r\n",
    "Enter bottom path value: \r\n",
    " 1 0 1\r\n",
    "Enter message bit: \r\n",
    " 1 0 0 1 1\r\n",
    "0 1 1 1 0 1 1 1 1 0 1 0 1 1 110\r\n"
   ]
  },
  {
   "cell_type": "code",
   "execution_count": 16,
   "id": "7e498d5f-9ba9-468a-bae0-d40312ae9c2f",
   "metadata": {},
   "outputs": [
    {
     "name": "stdin",
     "output_type": "stream",
     "text": [
      "Enter the path length and msg_length:  3 5\n"
     ]
    },
    {
     "name": "stdout",
     "output_type": "stream",
     "text": [
      "Enter top path value: "
     ]
    },
    {
     "name": "stdin",
     "output_type": "stream",
     "text": [
      " 1 1 1\n"
     ]
    },
    {
     "name": "stdout",
     "output_type": "stream",
     "text": [
      "Enter bottom path value: "
     ]
    },
    {
     "name": "stdin",
     "output_type": "stream",
     "text": [
      " 1 0 1\n"
     ]
    },
    {
     "name": "stdout",
     "output_type": "stream",
     "text": [
      "Enter message bit: "
     ]
    },
    {
     "name": "stdin",
     "output_type": "stream",
     "text": [
      " 1 0 0 1 1\n"
     ]
    },
    {
     "name": "stdout",
     "output_type": "stream",
     "text": [
      "[0, 0, 0, 0, 0, 0, 0, 0, 0, 0, 0, 0, 0, 0, 0]\n",
      "Convolution code : \n",
      "0 1 1 1 0 1 1 1 1 0 1 0 1 1 1\n"
     ]
    }
   ],
   "source": [
    "def main():\n",
    "    path_length, msg_length = map(int, input(\"Enter the path length and msg_length: \").split())\n",
    "\n",
    "    top_path = [0] * (path_length + 1)\n",
    "    bottom_path = [0] * (path_length + 1)\n",
    "    message_bit = [0] * (msg_length + 1)\n",
    "\n",
    "    print(\"Enter top path value: \", end=\"\")\n",
    "    top_path[1:] = map(int, input().split())\n",
    "    \n",
    "    print(\"Enter bottom path value: \", end=\"\")\n",
    "    bottom_path[1:] = map(int, input().split())\n",
    "\n",
    "    print(\"Enter message bit: \", end=\"\")\n",
    "    message_bit[1:] = map(int, input().split())\n",
    "\n",
    "    total_iteration = (msg_length + path_length) - 1\n",
    "    x1 = [0] * total_iteration\n",
    "    x2 = [0] * total_iteration\n",
    "    \n",
    "    convolution = [0] * (2 * total_iteration + 1)\n",
    "    ln = 1\n",
    "    \n",
    "    while ln <= total_iteration:\n",
    "        ml, pl = ln, 1\n",
    "        sml, spl = ln, 1\n",
    "        ans, result = 0, 0\n",
    "\n",
    "        while pl <= path_length and ml >= 1:\n",
    "            if ml <= msg_length:\n",
    "                ans ^= (top_path[pl] * message_bit[ml])\n",
    "                result ^= (bottom_path[spl] * message_bit[sml])\n",
    "\n",
    "            pl += 1\n",
    "            ml -= 1\n",
    "            spl += 1\n",
    "            sml -= 1\n",
    "\n",
    "        x1[ln - 1] = ans\n",
    "        x2[ln - 1] = result\n",
    "        ln += 1\n",
    "    print(\"Convolution code : \")\n",
    "    for i in range(1, 2 * total_iteration + 1, 2):\n",
    "        convolution[i] = x1[i // 2]\n",
    "        convolution[i + 1] = x2[i // 2]\n",
    "\n",
    "    print(\" \".join(map(str, convolution)))\n",
    "\n",
    "if __name__ == \"__main__\":\n",
    "    main()\n"
   ]
  },
  {
   "cell_type": "markdown",
   "id": "d88aba40-fb80-459d-94f8-66854c9f232c",
   "metadata": {},
   "source": [
    "# 3\n",
    "Enter bit stream: 010201021021"
   ]
  },
  {
   "cell_type": "code",
   "execution_count": 4,
   "id": "db9869a8-7020-42ba-a890-9f11aee547dc",
   "metadata": {},
   "outputs": [
    {
     "name": "stdin",
     "output_type": "stream",
     "text": [
      "Enter bit stream:  010201021021\n"
     ]
    },
    {
     "name": "stdout",
     "output_type": "stream",
     "text": [
      "Position is: 1 2 3 4 5 6 7 8 \n",
      "Sequence is: 0 1 01 02 010 2 10 21 \n",
      "Numerical Representation is: 00 01 11 12 30 02 20 61 \n",
      "Encode: 0000 0001 0011 0012 0110 0002 0100 1101 "
     ]
    }
   ],
   "source": [
    "# Binary encode for 'A'=0 and 'B'=1 assign\n",
    "def encode(n, c):\n",
    "    s = format(n, '03b') + c\n",
    "    return s\n",
    "\n",
    "if __name__ == \"__main__\":\n",
    "    input_str = input(\"Enter bit stream: \")\n",
    "    len_str = len(input_str)\n",
    "    mp = {}\n",
    "    sequence = [\"0\", \"1\"]\n",
    "    mp[\"0\"] = 1\n",
    "    mp[\"1\"] = 2\n",
    "    pos = 3\n",
    "\n",
    "    str_temp = \"\"\n",
    "    for i in range(len_str):\n",
    "        str_temp += input_str[i]\n",
    "        if str_temp not in mp:\n",
    "            mp[str_temp] = pos\n",
    "            sequence.append(str_temp)\n",
    "            str_temp = \"\"\n",
    "            pos += 1\n",
    "        # for the last substring\n",
    "        if str_temp in mp and i == len_str - 1:\n",
    "            mp[str_temp] = pos\n",
    "            sequence.append(str_temp)\n",
    "\n",
    "    ln = len(sequence)\n",
    "    print(\"Position is:\", end=\" \")\n",
    "    for i in range(1, ln + 1):\n",
    "        print(i, end=\" \")\n",
    "    print()\n",
    "\n",
    "    print(\"Sequence is:\", end=\" \")\n",
    "    for val in sequence:\n",
    "        print(val, end=\" \")\n",
    "    print()\n",
    "\n",
    "    pr = []\n",
    "    for val in sequence:\n",
    "        if len(val) == 1:\n",
    "            pr.append((0, val[0]))\n",
    "        else:\n",
    "            sbs = val[:-1]\n",
    "            pr.append((mp[sbs], val[-1]))\n",
    "\n",
    "    # Numerical representation\n",
    "    print(\"Numerical Representation is:\", end=\" \")\n",
    "    for it in pr:\n",
    "        print(str(it[0]) + it[1], end=\" \")\n",
    "    print()\n",
    "\n",
    "    print(\"Encode:\", end=\" \")\n",
    "    for it in pr:\n",
    "        ans = encode(it[0], it[1])\n",
    "        print(ans, end=\" \")\n"
   ]
  },
  {
   "cell_type": "code",
   "execution_count": 5,
   "id": "abee1ad6-0070-44ed-9b8b-5cee7669959f",
   "metadata": {},
   "outputs": [
    {
     "name": "stdin",
     "output_type": "stream",
     "text": [
      "Enter character string:  ABABBABABB\n"
     ]
    },
    {
     "name": "stdout",
     "output_type": "stream",
     "text": [
      "Position is: 1 2 3 4 5 6 \n",
      "Sequence is: A B AB BA BAB B \n",
      "Numerical Representation is: 0A 0B 1B 6A 4B 0B \n",
      "Encode: 0000 0001 0011 1100 1001 0001 "
     ]
    }
   ],
   "source": [
    "# Binary encode for 'A'=0 and 'B'=1 assign\n",
    "def encode(n, c):\n",
    "    s = format(n, '03b')\n",
    "    if c == 'A':\n",
    "        s += '0'\n",
    "    else:\n",
    "        s += '1'\n",
    "    return s\n",
    "\n",
    "if __name__ == \"__main__\":\n",
    "    input_str = input(\"Enter character string: \")\n",
    "    len_str = len(input_str)\n",
    "    mp = {}\n",
    "    sequence = []\n",
    "    pos = 1\n",
    "    str_temp = \"\"\n",
    "\n",
    "    for i in range(len_str):\n",
    "        str_temp += input_str[i]\n",
    "        if str_temp not in mp:\n",
    "            mp[str_temp] = pos\n",
    "            sequence.append(str_temp)\n",
    "            str_temp = \"\"\n",
    "            pos += 1\n",
    "        # for the last substring\n",
    "        if str_temp in mp and i == len_str - 1:\n",
    "            mp[str_temp] = pos\n",
    "            sequence.append(str_temp)\n",
    "\n",
    "    ln = len(sequence)\n",
    "    print(\"Position is:\", end=\" \")\n",
    "    for i in range(1, ln + 1):\n",
    "        print(i, end=\" \")\n",
    "    print()\n",
    "\n",
    "    print(\"Sequence is:\", end=\" \")\n",
    "    for val in sequence:\n",
    "        print(val, end=\" \")\n",
    "    print()\n",
    "\n",
    "    pr = []\n",
    "    for val in sequence:\n",
    "        if len(val) == 1:\n",
    "            pr.append((0, val[0]))\n",
    "        else:\n",
    "            sbs = val[:-1]\n",
    "            pr.append((mp[sbs], val[-1]))\n",
    "\n",
    "    # Numerical representation\n",
    "    print(\"Numerical Representation is:\", end=\" \")\n",
    "    for it in pr:\n",
    "        print(str(it[0]) + it[1], end=\" \")\n",
    "    print()\n",
    "\n",
    "    print(\"Encode:\", end=\" \")\n",
    "    for it in pr:\n",
    "        ans = encode(it[0], it[1])\n",
    "        print(ans, end=\" \")\n"
   ]
  },
  {
   "cell_type": "markdown",
   "id": "dea5d037-75b6-4707-8c57-92d0af23e219",
   "metadata": {},
   "source": [
    "# 4.hamming\n",
    "Enter bit stream: 110110\n",
    "Enter receiver message to detect error: 110111"
   ]
  },
  {
   "cell_type": "code",
   "execution_count": 6,
   "id": "600d1f85-8910-4125-9f35-65dc22f6017b",
   "metadata": {},
   "outputs": [
    {
     "name": "stdin",
     "output_type": "stream",
     "text": [
      "Enter bit stream:  110110\n"
     ]
    },
    {
     "name": "stdout",
     "output_type": "stream",
     "text": [
      "Position generate parity bit: pp1p101p10\n",
      "Generate hamming code is: 0010101110\n"
     ]
    },
    {
     "name": "stdin",
     "output_type": "stream",
     "text": [
      "Enter receiver message to detect error:  110111\n"
     ]
    },
    {
     "name": "stdout",
     "output_type": "stream",
     "text": [
      "Error found at location: 4\n"
     ]
    }
   ],
   "source": [
    "# Function for decimal to binary convert\n",
    "def decimal_to_binary(n):\n",
    "    s = format(n, '08b')\n",
    "    return s[::-1]\n",
    "\n",
    "def is_power_of_two(n):\n",
    "    if n == 0:\n",
    "        return False\n",
    "    return (n & (n - 1)) == 0\n",
    "\n",
    "if __name__ == \"__main__\":\n",
    "    s = input(\"Enter bit stream: \")\n",
    "    len_s = len(s)\n",
    "    \n",
    "    # find no of parity bit using formula 2^r >= m + r + 1\n",
    "    bit = 0\n",
    "    for i in range(1, len_s + 1):\n",
    "        if 2**i >= len_s + i + 1:\n",
    "            bit = i\n",
    "            break\n",
    "\n",
    "    # power of 2 positions assign parity bit\n",
    "    k = 0\n",
    "    hamming = \"\"\n",
    "    for i in range(1, len_s + bit + 1):\n",
    "        if is_power_of_two(i):\n",
    "            hamming += \"p\"\n",
    "        else:\n",
    "            hamming += s[k]\n",
    "            k += 1\n",
    "\n",
    "    print(\"Position generate parity bit:\", hamming)\n",
    "\n",
    "    parity = 0\n",
    "    for i in range(len(hamming)):\n",
    "        if hamming[i] == 'p':\n",
    "            one = 0\n",
    "            for j in range(i + 1, len(hamming)):\n",
    "                st = decimal_to_binary(j + 1)\n",
    "                if st[parity] == '1':\n",
    "                    if hamming[j] == '1':\n",
    "                        one += 1\n",
    "\n",
    "            # use even parity: no of ones even is 1, otherwise 0\n",
    "            if one % 2 == 0 and one:\n",
    "                hamming = hamming[:i] + '0' + hamming[i + 1:]\n",
    "            else:\n",
    "                hamming = hamming[:i] + '1' + hamming[i + 1:]\n",
    "            parity += 1\n",
    "\n",
    "    print(\"Generate hamming code is:\", hamming)\n",
    "\n",
    "    # Sender message with parity bit system\n",
    "    # For example, send a message with even parity\n",
    "\n",
    "    # Error detection\n",
    "    receiver_msg = input(\"Enter receiver message to detect error: \")\n",
    "    if receiver_msg != hamming:\n",
    "        pk = 0\n",
    "        error_str = \"\"\n",
    "        for i in range(len(receiver_msg)):\n",
    "            if is_power_of_two(i + 1):\n",
    "                one = 0\n",
    "                for j in range(i, len(receiver_msg)):\n",
    "                    st = decimal_to_binary(j + 1)\n",
    "                    if st[pk] == '1':\n",
    "                        if receiver_msg[j] == '1':\n",
    "                            one += 1\n",
    "                if one % 2 == 0 and one:\n",
    "                    error_str += '0'\n",
    "                else:\n",
    "                    error_str += '1'\n",
    "                pk += 1\n",
    "\n",
    "        error_str = error_str[::-1]\n",
    "        print(\"Error found at location:\", int(error_str, 2))\n",
    "    else:\n",
    "        print(\"No error found\")\n"
   ]
  },
  {
   "cell_type": "markdown",
   "id": "769ccecd-a7ab-4729-b07a-85be10691430",
   "metadata": {},
   "source": [
    "# 5 Binary symmetric channel , fine channel capacity (C)\n",
    "Enter matrix:\n",
    " 0.9 0.1\n",
    " 0.2 0.8\n",
    "Symmetric matrix is:\n",
    "0.9 0.1 \n",
    "0.2 0.8 \n",
    "Conditional probability H(Y/X) is = 0.6011884030780175 bits/msg symbol\n",
    "Channel Capacity is = 0.39881159692198254 bits/msg symbol"
   ]
  },
  {
   "cell_type": "code",
   "execution_count": 1,
   "id": "7ccc5d27-92ae-4bad-9d57-0f0f919c4d9b",
   "metadata": {},
   "outputs": [
    {
     "name": "stdout",
     "output_type": "stream",
     "text": [
      "Enter matrix:\n"
     ]
    },
    {
     "name": "stdin",
     "output_type": "stream",
     "text": [
      " .6667 .3333\n",
      " .3333 .6667\n"
     ]
    },
    {
     "name": "stdout",
     "output_type": "stream",
     "text": [
      "Symmetric matrix is:\n",
      "0.6667 0.3333 \n",
      "0.3333 0.6667 \n",
      "Conditional probability H(Y/X) is = 0.9182624971143585 bits/msg symbol\n",
      "Channel Capacity is = 0.08173750288564152 bits/msg symbol\n"
     ]
    }
   ],
   "source": [
    "import math\n",
    "\n",
    "if __name__ == \"__main__\":\n",
    "    # Enter 2-dimensional binary symmetric matrix, which is also called a noiseless matrix\n",
    "    # Matrix element p represents probability\n",
    "    print(\"Enter matrix:\")\n",
    "    matrix = [[0 for _ in range(3)] for _ in range(3)]\n",
    "    for i in range(1, 3):\n",
    "        row_values = input().split()\n",
    "        for j, val in enumerate(row_values):\n",
    "            matrix[i][j+1] = float(val)\n",
    "\n",
    "    print(\"Symmetric matrix is:\")\n",
    "    for i in range(1, 3):\n",
    "        for j in range(1, 3):\n",
    "            print(matrix[i][j], end=\" \")\n",
    "        print()\n",
    "\n",
    "    # Calculate H(Y/X) using the formula (1-p) * log2(1/(1-p)) + p * log2(1/p)\n",
    "    Hp = matrix[1][1] * math.log2(1.0 / matrix[1][1]) + matrix[2][1] * math.log2(1.0 / matrix[2][1])\n",
    "    print(f\"Conditional probability H(Y/X) is = {Hp} bits/msg symbol\")\n",
    "\n",
    "    # Now calculate channel capacity using the formula C = 1 - H(Y/X)\n",
    "    C = 1 - Hp\n",
    "    print(f\"Channel Capacity is = {C} bits/msg symbol\")\n"
   ]
  },
  {
   "cell_type": "markdown",
   "id": "da8cd903-ec97-489e-bfc1-8e32c06114d3",
   "metadata": {},
   "source": [
    "# 6\n",
    "Enter number of nodes:  4\r\n",
    "Enter Kraft's inequality value (like <= 1):  .95\r\n",
    "Enter symbols:\r\n",
    " a\r\n",
    " b\r\n",
    " c\r\n",
    " d\r\n",
    "Enter probabilities:\r\n",
    " .3\r\n",
    " .2\r\n",
    " .2\r\n",
    " .3\r\n",
    "Doesn't exist Huffman code"
   ]
  },
  {
   "cell_type": "code",
   "execution_count": 12,
   "id": "8ca18f2d-c12b-408b-b0f7-e5cf7490fd2f",
   "metadata": {},
   "outputs": [
    {
     "name": "stdin",
     "output_type": "stream",
     "text": [
      "Enter number of nodes:  4\n",
      "Enter Kraft's inequality value (like <= 1):  .95\n"
     ]
    },
    {
     "name": "stdout",
     "output_type": "stream",
     "text": [
      "Enter symbols:\n"
     ]
    },
    {
     "name": "stdin",
     "output_type": "stream",
     "text": [
      " a\n",
      " b\n",
      " c\n",
      " d\n"
     ]
    },
    {
     "name": "stdout",
     "output_type": "stream",
     "text": [
      "Enter probabilities:\n"
     ]
    },
    {
     "name": "stdin",
     "output_type": "stream",
     "text": [
      " .3\n",
      " .2\n",
      " .2\n",
      " .3\n"
     ]
    },
    {
     "name": "stdout",
     "output_type": "stream",
     "text": [
      "Doesn't exist Huffman code\n"
     ]
    }
   ],
   "source": [
    "import queue\n",
    "import math\n",
    "\n",
    "# Node for creating a structure that means a set of data\n",
    "class Node:\n",
    "    def __init__(self, ch, freq):\n",
    "        self.left = None\n",
    "        self.right = None\n",
    "        self.data = ch\n",
    "        self.frequency = freq\n",
    "\n",
    "    # Define less than comparison for nodes\n",
    "    def __lt__(self, other):\n",
    "        return self.frequency < other.frequency\n",
    "\n",
    "# Node frequency compare for creating a compare function\n",
    "class Compare:\n",
    "    def __call__(self, L, R):\n",
    "        return L.frequency > R.frequency\n",
    "\n",
    "def print_codes(root, code):\n",
    "    if not root:\n",
    "        return\n",
    "    # When vertex find then print code value\n",
    "    if root.data != '$':\n",
    "        print(f\"{root.data} ->: {code}\")\n",
    "    # Recursive function use for each root for check\n",
    "    print_codes(root.left, code + '0')\n",
    "    print_codes(root.right, code + '1')\n",
    "\n",
    "def inequility_generate(root, code):\n",
    "    global value\n",
    "    if not root:\n",
    "        return\n",
    "    # When vertex find then take length code\n",
    "    # take inequality value using formula summ 2^-Nk <= 1\n",
    "    # here N is the length of the code\n",
    "    if root.data != '$':\n",
    "        global value\n",
    "        value += (1.0 / pow(2, len(code)))\n",
    "    # Recursive function use for each root for check\n",
    "    inequility_generate(root.left, code + '0')\n",
    "    inequility_generate(root.right, code + '1')\n",
    "\n",
    "def huffman_codes(vertices, frequencies, size, inq_value):\n",
    "    min_heap = queue.PriorityQueue()\n",
    "    for i in range(size):\n",
    "        min_heap.put(Node(vertices[i], frequencies[i]))\n",
    "\n",
    "    while min_heap.qsize() != 1:\n",
    "        left = min_heap.get()\n",
    "        right = min_heap.get()\n",
    "        top = Node('$', left.frequency + right.frequency)\n",
    "        top.left = left\n",
    "        top.right = right\n",
    "        min_heap.put(top)\n",
    "\n",
    "    inequility_generate(min_heap.queue[0], \"\")\n",
    "    \n",
    "    global value\n",
    "    if value <= inq_value:\n",
    "        print(\"Yes, Satisfied Kraft's inequality condition, so a Huffman code exists\\n\")\n",
    "        print(\"Huffman codes are:\")\n",
    "        print_codes(min_heap.queue[0], \"\")\n",
    "    else:\n",
    "        print(\"Doesn't exist Huffman code\")\n",
    "\n",
    "if __name__ == \"__main__\":\n",
    "    # Enter number of nodes\n",
    "    n = int(input(\"Enter number of nodes: \"))\n",
    "    kraft_inequality = float(input(\"Enter Kraft's inequality value (like <= 1): \"))\n",
    "    arr = [None] * n\n",
    "    freq = [None] * n\n",
    "\n",
    "    print(\"Enter symbols:\")\n",
    "    for i in range(n):\n",
    "        arr[i] = input()\n",
    "\n",
    "    print(\"Enter probabilities:\")\n",
    "    for i in range(n):\n",
    "        freq[i] = float(input())\n",
    "\n",
    "    value = 0\n",
    "    huffman_codes(arr, freq, n, kraft_inequality)\n"
   ]
  },
  {
   "cell_type": "markdown",
   "id": "23785ed3-4d63-4cdd-a904-0824f018a61f",
   "metadata": {},
   "source": [
    "# 7. Conditional joint entropy\n",
    "Enter rows and columns:  3 4\n",
    "Enter the values of joint distribution:\n",
    " .1\n",
    " .2\n",
    " .3\n",
    " .4\n",
    " .2\n",
    " .1\n",
    " .3\n",
    " .4\n",
    " .3\n",
    " .2\n",
    " .1\n",
    " .4\n",
    "Enter the marginal distribution of X:  0.4 0.3 0.3\n",
    "Enter the marginal distribution of Y:  .5 .5 .5 .5\n",
    "H(X) = 1.5709505944546684 bits\n",
    "H(Y) = 2.0 bits\n",
    "H(X|Y) = 2.5393180340130463 bits\n",
    "H(Y|X) = 0.7434587507932716 bits"
   ]
  },
  {
   "cell_type": "code",
   "execution_count": 1,
   "id": "68297551-91c2-41b3-9d27-6b970f290db6",
   "metadata": {},
   "outputs": [
    {
     "name": "stdin",
     "output_type": "stream",
     "text": [
      "Enter rows and columns:  4 4\n"
     ]
    },
    {
     "name": "stdout",
     "output_type": "stream",
     "text": [
      "Enter the values of joint distribution:\n"
     ]
    },
    {
     "name": "stdin",
     "output_type": "stream",
     "text": [
      " .125\n",
      " .0625\n",
      " .03125\n",
      " .03125\n",
      " .0625\n",
      " .125\n",
      " .03125\n",
      " .03125\n",
      " .0625\n",
      " .0625\n",
      " .0625\n",
      " .0625\n",
      " .25\n",
      " .0\n",
      " .0\n",
      " .0\n",
      "Enter the marginal distribution of X:  .5 .25 .125 .125\n",
      "Enter the marginal distribution of Y:  .25 .25 .25 .25\n"
     ]
    },
    {
     "name": "stdout",
     "output_type": "stream",
     "text": [
      "H(X) = 1.75 bits\n",
      "H(Y) = 2.0 bits\n",
      "H(X|Y) = nan bits\n",
      "H(Y|X) = nan bits\n"
     ]
    },
    {
     "name": "stderr",
     "output_type": "stream",
     "text": [
      "C:\\Users\\MD.NAIM HOSSAIN\\AppData\\Local\\Temp\\ipykernel_10752\\821284125.py:32: RuntimeWarning: divide by zero encountered in log2\n",
      "  conditional_entropy = -np.sum(joint_distribution[i] * (1 / marginal_distribution_Y[i]) * np.log2(joint_distribution[i] * (1 / marginal_distribution_Y[i])))\n",
      "C:\\Users\\MD.NAIM HOSSAIN\\AppData\\Local\\Temp\\ipykernel_10752\\821284125.py:32: RuntimeWarning: invalid value encountered in multiply\n",
      "  conditional_entropy = -np.sum(joint_distribution[i] * (1 / marginal_distribution_Y[i]) * np.log2(joint_distribution[i] * (1 / marginal_distribution_Y[i])))\n",
      "C:\\Users\\MD.NAIM HOSSAIN\\AppData\\Local\\Temp\\ipykernel_10752\\821284125.py:39: RuntimeWarning: divide by zero encountered in log2\n",
      "  conditional_entropy = -np.sum(joint_distribution[i] * (1 / marginal_distribution_X[i]) * np.log2(joint_distribution[i] * (1 / marginal_distribution_X[i])))\n",
      "C:\\Users\\MD.NAIM HOSSAIN\\AppData\\Local\\Temp\\ipykernel_10752\\821284125.py:39: RuntimeWarning: invalid value encountered in multiply\n",
      "  conditional_entropy = -np.sum(joint_distribution[i] * (1 / marginal_distribution_X[i]) * np.log2(joint_distribution[i] * (1 / marginal_distribution_X[i])))\n"
     ]
    }
   ],
   "source": [
    "import numpy as np\n",
    "\n",
    "def calculate_entropy(probabilities):\n",
    "    entropy = np.sum(-probabilities * np.log2(probabilities))\n",
    "    return entropy\n",
    "\n",
    "def main():\n",
    "    row, col = map(int, input(\"Enter rows and columns: \").split())\n",
    "\n",
    "    # Take the values of the joint distribution\n",
    "    print(\"Enter the values of joint distribution:\")\n",
    "    joint_distribution = np.zeros((row, col))\n",
    "    for i in range(row):\n",
    "        for j in range(col):\n",
    "            joint_distribution[i][j] = float(input())\n",
    "\n",
    "    # Take the marginal distribution of X and Y\n",
    "    marginal_distribution_X = np.array(list(map(float, input(\"Enter the marginal distribution of X: \").split())))\n",
    "    marginal_distribution_Y = np.array(list(map(float, input(\"Enter the marginal distribution of Y: \").split())))\n",
    "\n",
    "    # Calculation H(X)\n",
    "    entropy_X = calculate_entropy(marginal_distribution_X)\n",
    "    print(f\"H(X) = {entropy_X} bits\")\n",
    "\n",
    "    # Calculation H(Y)\n",
    "    entropy_Y = calculate_entropy(marginal_distribution_Y)\n",
    "    print(f\"H(Y) = {entropy_Y} bits\")\n",
    "\n",
    "    # Calculation of H(X|Y)\n",
    "    entropy_X_given_Y = 0\n",
    "    for i in range(row):\n",
    "        conditional_entropy = -np.sum(joint_distribution[i] * (1 / marginal_distribution_Y[i]) * np.log2(joint_distribution[i] * (1 / marginal_distribution_Y[i])))\n",
    "        entropy_X_given_Y += marginal_distribution_Y[i] * conditional_entropy\n",
    "    print(f\"H(X|Y) = {entropy_X_given_Y} bits\")\n",
    "\n",
    "   # Calculation of H(Y|X)\n",
    "    entropy_Y_given_X = 0\n",
    "    for i in range(row):\n",
    "        conditional_entropy = -np.sum(joint_distribution[i] * (1 / marginal_distribution_X[i]) * np.log2(joint_distribution[i] * (1 / marginal_distribution_X[i])))\n",
    "        entropy_Y_given_X += marginal_distribution_X[i] * conditional_entropy\n",
    "    print(f\"H(Y|X) = {entropy_Y_given_X} bits\")\n",
    "\n",
    "\n",
    "if __name__ == \"__main__\":\n",
    "    main()\n"
   ]
  },
  {
   "cell_type": "code",
   "execution_count": 23,
   "id": "dbbd4157-a891-4e38-a9e7-d2fd8490e2de",
   "metadata": {},
   "outputs": [
    {
     "name": "stdout",
     "output_type": "stream",
     "text": [
      "H(x) :  1.75\n",
      "H(x) :  2.0\n",
      "H(x) :  1.75\n",
      "H(x) :  1.75\n",
      "H(x) :  2.0\n",
      "H(x) :  0.0\n",
      "H(x) :  1.75\n",
      "H(x) :  1.5\n",
      "H(x) :  1.5\n",
      "H(x) :  1.5\n",
      "Conditional Entropy H(x|y):  1.375\n",
      "Conditional Entropy H(y|x):  1.625\n",
      "Joint Entropy H(x,y):  3.375\n",
      "Mutual Information:  0.375\n"
     ]
    }
   ],
   "source": [
    "# given\n",
    "import math\n",
    "\n",
    "matrix = [\n",
    "    [1 / 8, 1 / 16, 1 / 32, 1 / 32],\n",
    "    [1 / 16, 1 / 8, 1 / 32, 1 / 32],\n",
    "    [1 / 16, 1 / 16, 1 / 16, 1 / 16],\n",
    "    [1 / 4, 0, 0, 0]\n",
    "]\n",
    "\n",
    "# the marginal distribution of x\n",
    "marginal_x = []\n",
    "for i in range(len(matrix[0])):\n",
    "    marginal_x.append(sum(matrix[j][i] for j in range(len(matrix))))\n",
    "\n",
    "# the marginal distribution of y\n",
    "marginal_y = []\n",
    "for i in range(len(matrix)):\n",
    "    marginal_y.append(sum(matrix[i][j] for j in range(len(matrix[0]))))\n",
    "\n",
    "\n",
    "# H(x)\n",
    "def entropy(marginal_var):\n",
    "    H = 0\n",
    "    for x in marginal_var:\n",
    "        if x == 0:\n",
    "            continue\n",
    "        H += -(x * math.log2(x))\n",
    "    return H\n",
    "\n",
    "H_x = entropy(marginal_x)\n",
    "H_y = entropy(marginal_y)\n",
    "\n",
    "# conditional entropy\n",
    "# H(x/y)\n",
    "H_xy = 0\n",
    "for i in range(len(matrix)):\n",
    "    tmp = [(1 / marginal_y[i]) * matrix[i][j] for j in range(len(matrix[0]))]\n",
    "    H_xy += entropy(tmp) * marginal_y[i]\n",
    "\n",
    "# H(y/x)\n",
    "H_yx = 0\n",
    "for i in range(len(matrix[0])):\n",
    "    tmp = [(1 / marginal_x[i]) * matrix[j][i] for j in range(len(matrix))]\n",
    "    H_yx += entropy(tmp) * marginal_x[i]\n",
    "\n",
    "print('Conditional Entropy H(x|y): ', H_xy)\n",
    "print('Conditional Entropy H(y|x): ', H_yx)\n",
    "\n",
    "# Joint entropy\n",
    "# H(x,y)\n",
    "H_of_xy = H_x + H_yx\n",
    "print('Joint Entropy H(x,y): ', H_of_xy)\n",
    "\n",
    "# Mutual Information\n",
    "# I(x,y)\n",
    "I_of_xy = H_y - H_yx\n",
    "print('Mutual Information: ', I_of_xy)"
   ]
  },
  {
   "cell_type": "markdown",
   "id": "cb36828a-f87c-46f6-8d70-c11574da5b72",
   "metadata": {},
   "source": [
    "# 8\n",
    "Enter weight for row 1:  1 2 3 4\r\n",
    "Enter weight for row 2:  5 6 7 8\r\n",
    "Enter weight for row 3:  9 10 11 12\r\n",
    "Enter weight for row 4:  13 14 15 16\r\n",
    "Total cost is: 70\r\n",
    "Each node weight is: [10, 26, 42, 58]\r\n",
    "The stationary distribution mue is: [0.07142857142857142, 0.18571428571428572, 0.3, 0.4142857142857143]\r\n",
    "Two Entropy is:\r\n",
    "3.694448249392128 1.7707967657847594\r\n",
    "The Entropy rate is: 1.9236514836073684"
   ]
  },
  {
   "cell_type": "code",
   "execution_count": 9,
   "id": "dff25d6c-0104-41d8-abe1-b8399c82156e",
   "metadata": {},
   "outputs": [
    {
     "name": "stdin",
     "output_type": "stream",
     "text": [
      "Enter weight for row 1:  1 2 3 4\n",
      "Enter weight for row 2:  5 6 7 8\n",
      "Enter weight for row 3:  9 10 11 12\n",
      "Enter weight for row 4:  13 14 15 16\n"
     ]
    },
    {
     "name": "stdout",
     "output_type": "stream",
     "text": [
      "total cost  1\n",
      "total cost  3\n",
      "total cost  6\n",
      "total cost  10\n",
      "total cost  10\n",
      "total cost  16\n",
      "total cost  23\n",
      "total cost  31\n",
      "total cost  31\n",
      "total cost  31\n",
      "total cost  42\n",
      "total cost  54\n",
      "total cost  54\n",
      "total cost  54\n",
      "total cost  54\n",
      "total cost  70\n",
      "Total cost is: 70\n",
      "Each node weight is: [10, 26, 42, 58]\n",
      "The stationary distribution mue is: [0.07142857142857142, 0.18571428571428572, 0.3, 0.4142857142857143]\n",
      "Two Entropy is:\n",
      "3.694448249392128 1.7707967657847594\n",
      "The Entropy rate is: 1.9236514836073684\n"
     ]
    }
   ],
   "source": [
    "from math import log2\n",
    "\n",
    "graph = [[0] * 5 for _ in range(5)]\n",
    "each_node_weight = []\n",
    "\n",
    "for i in range(1, 5):\n",
    "    row_input = input(f\"Enter weight for row {i}: \").split()\n",
    "    row_sum = 0\n",
    "\n",
    "    for j in range(1, 5):\n",
    "        graph[i][j] = int(row_input[j - 1])\n",
    "        row_sum += graph[i][j]\n",
    "\n",
    "    each_node_weight.append(row_sum)\n",
    "\n",
    "total_cost = 0\n",
    "s = set()\n",
    "\n",
    "for i in range(1, 5):\n",
    "    for j in range(1, 5):\n",
    "        if (i, j) not in s and (j, i) not in s:\n",
    "            total_cost += graph[i][j]\n",
    "            s.add((i, j))\n",
    "            s.add((j, i))\n",
    "        print('total cost ',total_cost)\n",
    "\n",
    "print(\"Total cost is:\", total_cost)\n",
    "print(\"Each node weight is:\", each_node_weight)\n",
    "\n",
    "mue = [it / (2.0 * total_cost) for it in each_node_weight]\n",
    "print(\"The stationary distribution mue is:\", mue)\n",
    "\n",
    "entropy_all_position = 0\n",
    "entropy_each_node = 0\n",
    "\n",
    "for i in range(1, 5):\n",
    "    for j in range(1, 5):\n",
    "        ele = graph[i][j] / (2.0 * total_cost)\n",
    "        if ele > 0:\n",
    "            result = (ele * log2(ele))\n",
    "            entropy_all_position += result\n",
    "\n",
    "    H_mue = (mue[i - 1] * log2(mue[i - 1]))\n",
    "    entropy_each_node += H_mue\n",
    "\n",
    "print(\"Two Entropy is:\")\n",
    "print(-1 * entropy_all_position, -1 * entropy_each_node)\n",
    "\n",
    "entropy_rate = (-1) * entropy_all_position - (-1) * entropy_each_node\n",
    "print(\"The Entropy rate is:\", entropy_rate)"
   ]
  },
  {
   "cell_type": "code",
   "execution_count": 18,
   "id": "09b5ccfa-0679-4b31-aa4c-f0368c43ea2a",
   "metadata": {},
   "outputs": [
    {
     "name": "stdout",
     "output_type": "stream",
     "text": [
      "Entropy Rate: 1.33\n"
     ]
    }
   ],
   "source": [
    "import math\n",
    "from collections import defaultdict\n",
    "\n",
    "# given\n",
    "g = defaultdict(list)\n",
    "xij = [[1, 1, 2], [1, 1], [1, 2, 1], [1, 1]]\n",
    "\n",
    "\n",
    "def makeGraph(li):\n",
    "    for node in range(len(li)):\n",
    "        for x in li[node]:\n",
    "            g[node].append(x)\n",
    "\n",
    "\n",
    "def entropy(li):\n",
    "    H = 0\n",
    "    for x in li:\n",
    "        if x == 0:\n",
    "            continue\n",
    "        H += -(x * math.log2(x))\n",
    "    return H\n",
    "\n",
    "\n",
    "# make graph\n",
    "makeGraph(xij)\n",
    "wi = []\n",
    "for node in range(len(g)):\n",
    "    wi.append(sum(g[node]))\n",
    "\n",
    "# we know\n",
    "# summation(wi)=2w\n",
    "w = sum(wi) / 2\n",
    "\n",
    "# the stationary distribution is\n",
    "# ui=(wi)/2w\n",
    "ui = [weight / (2 * w) for weight in wi]\n",
    "\n",
    "# H((wi)/2w)=H(ui)\n",
    "H_wi_div_2w = entropy(ui)\n",
    "\n",
    "# H(wij/2*w) = H(g[]/2*w)\n",
    "wij_div_2w_list = []\n",
    "for i in range(len(g)):\n",
    "    wij_div_2w_list += [weight / (2 * w) for weight in g[i]]\n",
    "\n",
    "# H(wij/2*w) = H(wij_div_2w_list)\n",
    "H_wij_div_2w = entropy(wij_div_2w_list)\n",
    "\n",
    "# finally the entropy rate\n",
    "# H(x)=H(wij/2w)-H(wi/2w)\n",
    "H_x = H_wij_div_2w - H_wi_div_2w\n",
    "print('Entropy Rate: %.2f' % H_x)"
   ]
  },
  {
   "cell_type": "code",
   "execution_count": null,
   "id": "879f9489-c21a-4a25-933e-827c6d95e5b7",
   "metadata": {},
   "outputs": [],
   "source": []
  }
 ],
 "metadata": {
  "kernelspec": {
   "display_name": "Python 3 (ipykernel)",
   "language": "python",
   "name": "python3"
  },
  "language_info": {
   "codemirror_mode": {
    "name": "ipython",
    "version": 3
   },
   "file_extension": ".py",
   "mimetype": "text/x-python",
   "name": "python",
   "nbconvert_exporter": "python",
   "pygments_lexer": "ipython3",
   "version": "3.9.10"
  },
  "widgets": {
   "application/vnd.jupyter.widget-state+json": {
    "state": {},
    "version_major": 2,
    "version_minor": 0
   }
  }
 },
 "nbformat": 4,
 "nbformat_minor": 5
}
