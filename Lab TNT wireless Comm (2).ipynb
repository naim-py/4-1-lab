{
 "cells": [
  {
   "cell_type": "markdown",
   "id": "6bd41fb2-e820-41c6-a3eb-bb93e7d4e3c8",
   "metadata": {},
   "source": [
    "# 1. A spectrum of 30 MHz is allocated to a wireless FDD cellular system which uses two 25 \n",
    "kHz simplex channels to provide full duplex voice and control channels, compute the \n",
    "number of channels available per cell if a system uses (a) 4-cell reuse, (b) 7-cell reuse (c) \n",
    "12-cell reuse. If 1 MHz of the allocated spectrum is dedicated to control channels, \n",
    "determine an equitable distribution of control channels and voice channels in each cell for \n",
    "each of the three systems.\n",
    "                                                                                       C= total available channel\n",
    "M= cluster size\n",
    "K= channel per cell\n",
    "N= reuse pattern"
   ]
  },
  {
   "cell_type": "code",
   "execution_count": 9,
   "id": "619efb9e-89ad-4f61-a123-ecf34e78a52b",
   "metadata": {},
   "outputs": [
    {
     "name": "stdout",
     "output_type": "stream",
     "text": [
      "Total Available Channel =  660.0\n",
      "total_control_channel 20\n",
      "Total voice channel =  640.0\n",
      "\t\n",
      "When Reuse pattern =  4\n",
      "Number of channel per cell =  165\n",
      "When Reuse pattern =  7\n",
      "Number of channel per cell =  94\n",
      "When Reuse pattern =  12\n",
      "Number of channel per cell =  55\n",
      "\t\n",
      "When Reuse pattern =  4\n",
      "Control Channel =  5\n",
      "Voice Channel =  160\n",
      "When Reuse pattern =  7\n",
      "Control Channel =  3\n",
      "Voice Channel =  91\n",
      "When Reuse pattern =  12\n",
      "Control Channel =  2\n",
      "Voice Channel =  53\n"
     ]
    }
   ],
   "source": [
    "bw = 33000000\n",
    "simplex_c_bw = 25000\n",
    "duplex_c_bw = 2*simplex_c_bw\n",
    "#total_available_channel=tac\n",
    "tac = bw/duplex_c_bw\n",
    "print('Total Available Channel = ',tac)\n",
    "allocated_spectrum_bw = 1000000\n",
    "total_control_channel= round(allocated_spectrum_bw/duplex_c_bw)\n",
    "print('total_control_channel',total_control_channel)\n",
    "tvc=tac-total_control_channel\n",
    "print('Total voice channel = ',tvc)\n",
    "print('\\t')\n",
    "N=[4,7,12]\n",
    "for i in range(3):\n",
    "    print('When Reuse pattern = ',N[i])\n",
    "    print('Number of channel per cell = ',round(tac/N[i]))\n",
    "print('\\t')\n",
    "for j in range(3):\n",
    "    print('When Reuse pattern = ',N[j])\n",
    "    print('Control Channel = ',round(total_control_channel/N[j]))\n",
    "    print('Voice Channel = ',round(tvc/N[j]))"
   ]
  },
  {
   "cell_type": "markdown",
   "id": "83227f98-92a0-48fd-a87c-cf77b6adbb01",
   "metadata": {},
   "source": [
    "# 2. For given path loss exponent (a) n=4 and (b) n=3, find the frequency reuse factor and the \n",
    "cluster size that should be used for maximum capacity. The signal to interference ratio of \n",
    "15 dB is minimum required for satisfactory forward channel performance of a cellular \n",
    "system. There are six co-channels cells in the first tier, and all of them are at the same \n",
    "distance from the mobile. Use suitable approximations."
   ]
  },
  {
   "cell_type": "code",
   "execution_count": 22,
   "id": "7c7066af-d658-4645-8035-dc4aae6c496d",
   "metadata": {},
   "outputs": [
    {
     "name": "stdout",
     "output_type": "stream",
     "text": [
      "n =  4\n",
      "Reuse factor =  7\n",
      "Co-Channel Ratio  =  4.58257569495584\n",
      "Signal to Interference Ratio in dB =  18.66287339084195\n",
      "n =  3\n",
      "Reuse factor =  7\n",
      "Co-Channel Ratio  =  4.58257569495584\n",
      "Signal to Interference Ratio in dB =  12.051776917172353\n",
      "n =  3\n",
      "Frequency Reuse factor =  6.0\n",
      "Signal to Interference Ratio in dB =  15.563025007672874\n"
     ]
    }
   ],
   "source": [
    "import math\n",
    "signal_to_inter_ratio = 15\n",
    "co_channel =6\n",
    "n=[4,3]\n",
    "for i in range(2):\n",
    "    N =7\n",
    "    q=float(math.sqrt(3*N))\n",
    "    print('n = ',n[i])\n",
    "    print('Reuse factor = ',N)\n",
    "    print('Co-Channel Ratio  = ',q)\n",
    "    SI =((1/co_channel)*(q**n[i]))\n",
    "    SI_in_dB =10*(math.log10(SI))\n",
    "    print('Signal to Interference Ratio in dB = ',SI_in_dB)\n",
    "    if SI_in_dB<signal_to_inter_ratio:\n",
    "        j,k=2,2\n",
    "        N=j**2 + j*k + k**2\n",
    "        q=math.sqrt(3*N)\n",
    "        print('n = ',n[i])\n",
    "        print('Frequency Reuse factor = ',q)\n",
    "        SI =((1/co_channel)*(q**n[i]))\n",
    "        SI_in_dB =10*(math.log10(SI))\n",
    "        print('Signal to Interference Ratio in dB = ',SI_in_dB)"
   ]
  },
  {
   "cell_type": "markdown",
   "id": "44ec7522-4b2d-4661-b8b1-cde52e32ae63",
   "metadata": {},
   "source": [
    "# 3. How many users can be supported for 0.5% blocking probability for the following \n",
    "number of trunked channels in a blocked calls cleared system? (a) 1, (b) 5, (c) 10, (d) 20, \n",
    "(e) 100. Assume each user generates 0.1 erlangs of traffic. U=A/Au"
   ]
  },
  {
   "cell_type": "code",
   "execution_count": 26,
   "id": "81b3b20f-18bb-4fe8-87f7-cfed1ded4cd4",
   "metadata": {},
   "outputs": [
    {
     "name": "stdout",
     "output_type": "stream",
     "text": [
      "Bloacking Probablity =  0.005\n",
      "Traffic Intensity per user =  0.1\n",
      "Channel =  [1, 5, 10, 20, 100]\n",
      "Traffic Intensity A =  [0.005, 1.13, 3.96, 11.1, 80, 9]\n",
      "Number of User =  [0, 11, 40, 111, 800, 90]\n"
     ]
    }
   ],
   "source": [
    "gos = .5/100\n",
    "Au= 0.1\n",
    "A = [0.005,1.13,3.96,11.1,80,9]\n",
    "C = [1,5,10,20,100]\n",
    "print('Bloacking Probablity = ',gos)\n",
    "print('Traffic Intensity per user = ',Au)\n",
    "print('Channel = ',C)\n",
    "print('Traffic Intensity A = ',A)\n",
    "\n",
    "U=[i/Au for i in A]\n",
    "user =[round(u) for u in U]\n",
    "print('Number of User = ',user)"
   ]
  },
  {
   "cell_type": "markdown",
   "id": "7a924b88-47e3-4816-ae7a-f2c5516423bb",
   "metadata": {},
   "source": [
    "# 4. An urban area has a population of two million residents. Three competing trunked mobile \n",
    "networks (systems A, B, and C) provide cellular service in this area. System A has 394 \n",
    "cells with 19 channels each, system B has 98 cells with 57 channels each, and system C \n",
    "has 49 cells, each with 100 channels. Find the number of users that can be supported at \n",
    "2% blocking if each user averages two calls per hour at an average call duration of three \n",
    "minutes. Assuming that all three trunked systems are operated at maximum capacity, \n",
    "compute the percentage market penetration of each cellular provider.\n",
    "nummber of average call lamda=2,call duration=3min,H=3/60,Au=lamda*H,traffic A=12,channel C=19 ,User =A/Au=12/0.1=120, Since there are 394 cells, the total number of' subscribers that can be sup\n",
    "ported by System A is equalto 120 x 394 = 47280."
   ]
  },
  {
   "cell_type": "code",
   "execution_count": 41,
   "id": "ac55c0e9-1c45-49da-add6-10d7f3e3cf94",
   "metadata": {},
   "outputs": [
    {
     "name": "stdout",
     "output_type": "stream",
     "text": [
      "\t\n",
      "For system :  A\n",
      "Number of Users: A = 120.0\n",
      "Total Number of Subscriber in : A = 47280.0\n",
      "Percentage of Market penetration for : A = 2.36%\n",
      "\t\n",
      "For system :  B\n",
      "Number of Users: B = 450.0\n",
      "Total Number of Subscriber in : B = 44100.0\n",
      "Percentage of Market penetration for : B = 2.21%\n",
      "\t\n",
      "For system :  C\n",
      "Number of Users: C = 880.0\n",
      "Total Number of Subscriber in : C = 43120.0\n",
      "Percentage of Market penetration for : C = 2.16%\n",
      "\t\n",
      "Total Number of subscriber :  134500.0\n",
      "Market Penetration for Three system : 6.73 %\n"
     ]
    }
   ],
   "source": [
    "resident=2000000\n",
    "block_p=2/100\n",
    "lamda=2\n",
    "H=3/60\n",
    "Au=lamda*H\n",
    "system=['A','B','C']\n",
    "C=[19,57,100]\n",
    "Cells=[394,98,49]\n",
    "A=[12,45,88]\n",
    "total_subscribers=0\n",
    "total_penetration=0\n",
    "\n",
    "for i in range(3):\n",
    "    print('\\t')\n",
    "    print('For system : ',system[i])\n",
    "    user=A[i]/Au\n",
    "    print(f\"Number of Users: {system[i]} = {user}\")\n",
    "    sub=user*Cells[i]\n",
    "    print(f\"Total Number of Subscriber in : {system[i]} = {sub}\")\n",
    "    pene= float((sub/resident)*100)\n",
    "    print(f\"Percentage of Market penetration for : {system[i]} = {pene:.2f}%\")\n",
    "    total_subscribers += sub\n",
    "    total_penetration += pene\n",
    "    \n",
    "\n",
    "print('\\t')\n",
    "print('Total Number of subscriber : ',total_subscribers)\n",
    "print(f'Market Penetration for Three system : {total_penetration:.2f} %')    "
   ]
  },
  {
   "cell_type": "markdown",
   "id": "0fff56b4-8474-4808-9764-c8b2fbdcb957",
   "metadata": {},
   "source": [
    "# 5. Find the Fraunhofer distance for an antenna with maximum dimension of 1 m and \n",
    "operating frequency of 900 MHz . If antennas have unity gain, calculate the path loss."
   ]
  },
  {
   "cell_type": "code",
   "execution_count": 48,
   "id": "50d7b607-cd5c-46cb-81d7-c68beb6a2fdd",
   "metadata": {},
   "outputs": [
    {
     "name": "stdout",
     "output_type": "stream",
     "text": [
      "Fraunhofer distance :  6.00 meter\n",
      "Path loss (free space ): 47.09 dB\n"
     ]
    }
   ],
   "source": [
    "light_speed = 3*10**8\n",
    "frequency = 900*10**6\n",
    "max_dimension=1\n",
    "wablength = float(light_speed/frequency)\n",
    "Fraunhofer_distance = float((2*max_dimension**2)/wablength)\n",
    "dis=Fraunhofer_distance\n",
    "path_loss = 20*math.log10(dis)+20*math.log10(frequency) + 20*math.log10(4*math.pi/light_speed)\n",
    "\n",
    "print(f'Fraunhofer distance : {dis: .2f} meter')\n",
    "print(f'Path loss (free space ): {path_loss:.2f} dB')"
   ]
  },
  {
   "cell_type": "markdown",
   "id": "249e8bb8-007d-426b-803c-de7cc6b8e29b",
   "metadata": {},
   "source": [
    "# 6. In the U.S digital cellular system  if  Fc = 900 MHz and the mobile velocity is 70 km/hr, \n",
    "calculate the received carrier frequency if the mobile (a) directly toward the transmitter, \n",
    "(b) directly away from the transmitter, (c) in a direction perpendicular to the direction of \n",
    "the arrival of the transmitted signal."
   ]
  },
  {
   "cell_type": "code",
   "execution_count": 55,
   "id": "0788aa92-5e63-4736-9de2-06da98cefe72",
   "metadata": {},
   "outputs": [
    {
     "name": "stdout",
     "output_type": "stream",
     "text": [
      "Vehicle is moving toward transmetter = 900000058.33 MHz\n",
      "Vehicle is moving backward to transmetter = 899999941.67 MHz\n",
      "for perpendicular ,there is no Doppler shift = 900000000.00 MHz\n"
     ]
    }
   ],
   "source": [
    "carrier_freq = 9*10**8\n",
    "light_speed =3*10**8\n",
    "wavelength = float(light_speed/carrier_freq)\n",
    "vehicle_speed=float((70*1000)/3600)\n",
    "tt=float(carrier_freq+(vehicle_speed/wavelength))\n",
    "print(f'Vehicle is moving toward transmetter = {tt:.2f} MHz')\n",
    "bt=float(carrier_freq-(vehicle_speed/wavelength))\n",
    "print(f'Vehicle is moving backward to transmetter = {bt:.2f} MHz')\n",
    "print(f'for perpendicular ,there is no Doppler shift = {carrier_freq:.2f} MHz')"
   ]
  },
  {
   "cell_type": "code",
   "execution_count": null,
   "id": "995a398e-45ae-4c1f-8e25-edc1234cd718",
   "metadata": {},
   "outputs": [],
   "source": [
    "7. An urban RF radio channels are modelled on SIRCIM and SMRCIM statistical channel \n",
    "models with excess delays as large as 150 μs and microcellular channels with excess \n",
    "delays no larger than 4μs . If the multiple path bin is selected at 70, Calculate (a) ΔΤ and \n",
    "(b) the maximum bandwidth which two models can accurately represent. And (c) if the \n",
    "indoor channel model with excess delays as large as 500 ns exists, Calculate the values of \n",
    "(a) and (b). "
   ]
  },
  {
   "cell_type": "code",
   "execution_count": 58,
   "id": "65d27e3b-d75c-4cae-ac52-b9fc9f07dd4a",
   "metadata": {},
   "outputs": [
    {
     "name": "stdout",
     "output_type": "stream",
     "text": [
      "(a) del_T 2.142857142857143\n",
      "(b)\n",
      "Maximum Bandwidth for SMRCIM model = 35.00 MHz\n",
      "(C)\n",
      "Maximum RF Bandwidth for indoor channel model = 0.28 MHz\n"
     ]
    }
   ],
   "source": [
    "Tn_a=150\n",
    "N=70\n",
    "del_T=Tn_a/N\n",
    "print('(a) del_T',del_T)\n",
    "\n",
    "SMRcim=2/del_T\n",
    "Tn_b=4\n",
    "delt_b=Tn_b/N\n",
    "mbw_b=2/delt_b\n",
    "print('(b)')\n",
    "print(f'Maximum Bandwidth for SMRCIM model = {mbw_b:.2f} MHz')\n",
    "\n",
    "exdl_c=500\n",
    "delt_c=exdl_c/N\n",
    "mbw_c=2/delt_c\n",
    "print('(C)')\n",
    "print(f'Maximum RF Bandwidth for indoor channel model = {mbw_c:.2f} MHz')"
   ]
  },
  {
   "cell_type": "markdown",
   "id": "ad4e3815-fe9e-4e5a-b0ac-ea46d2447b76",
   "metadata": {},
   "source": [
    "# 8. A zero mean sinusoidal message is applied to a transmitter that radiates an AM signal \n",
    "with 400KW power. Compute the carrier power if the signal is modulated on a depth of \n",
    "0.75. \n",
    "a) what percentage of the total power is in the carrier? \n",
    "b) calculate the power in each sideband? \n",
    "c) what will be the total power saving if the carrier and one of the sidebands are now \n",
    "suppressed?  "
   ]
  },
  {
   "cell_type": "code",
   "execution_count": 63,
   "id": "fac1811e-1acc-45db-9d99-f7f6aa5b7732",
   "metadata": {},
   "outputs": [
    {
     "name": "stdout",
     "output_type": "stream",
     "text": [
      "Carrier_power_pc 312.1951219512195\n",
      "(a)\n",
      "Percentage of Total Power in Carrier: 78.05%\n",
      "(b)\n",
      "Power in Each Sideband: 43.90 kW\n",
      "(c)\n",
      "Total Power Saving: 356.10 %\n"
     ]
    }
   ],
   "source": [
    "# Clear variables and close figures equivalent in Python\n",
    "import numpy as np\n",
    "\n",
    "# Given values\n",
    "Aom_signal_power = 400  # Total transmitted power in kW\n",
    "modulation_depth = 0.75  # Modulation depth\n",
    "\n",
    "# Carrier power calculation\n",
    "Carrier_power_pc = Aom_signal_power / (1 + (modulation_depth**2 / 2))\n",
    "print(\"Carrier_power_pc\",Carrier_power_pc)\n",
    "print('(a)')\n",
    "# Percentage of total power in the carrier\n",
    "total_powers = (Carrier_power_pc / Aom_signal_power) * 100\n",
    "print(f\"Percentage of Total Power in Carrier: {total_powers:.2f}%\")\n",
    "\n",
    "print('(b)')\n",
    "# Power in each sideband\n",
    "Powers_in_each_sideband = .5*(Aom_signal_power-Carrier_power_pc)\n",
    "print(f\"Power in Each Sideband: {Powers_in_each_sideband:.2f} kW\")\n",
    "\n",
    "print('(c)')\n",
    "# Total power saving if the carrier and one sideband are suppressed\n",
    "Percentage_power = (1 - (Powers_in_each_sideband / Aom_signal_power)) * 100\n",
    "print(f\"Total Power Saving: {Carrier_power_pc + Powers_in_each_sideband:.2f} %\")"
   ]
  },
  {
   "cell_type": "markdown",
   "id": "17dee7f6-ad30-4ffa-8c4c-f432a98f80d8",
   "metadata": {},
   "source": [
    "# 9. A sinusoidal modulating signal, m (t) = 8cos (2pi4*103t +10)  is applied to a modulator \n",
    "that has a frequency deviation constant gain of 10 kHz/V. Compute  \n",
    "a) the peak frequency deviation \n",
    "b) the modulation index \n",
    "c) the phase modulation index. =ko*mt_max_value=10radians*8 volt"
   ]
  },
  {
   "cell_type": "code",
   "execution_count": 65,
   "id": "647d28f7-aa4d-4c09-8a06-765f721b61b5",
   "metadata": {},
   "outputs": [
    {
     "name": "stdout",
     "output_type": "stream",
     "text": [
      "A\n",
      "Peak Frequency deviation =  80\n",
      "B\n",
      "Modulation Index =  20.0\n",
      "C\n",
      "phase_modulation_index =  80\n"
     ]
    }
   ],
   "source": [
    "Fm = 4\n",
    "mt_max_value = 8\n",
    "womcca = 10\n",
    "\n",
    "print('A')\n",
    "Peak_deviation_delta_f = mt_max_value * womcca\n",
    "print('Peak Frequency deviation = ',Peak_deviation_delta_f)\n",
    "print('B')\n",
    "Fne_mode_index_Bf = Peak_deviation_delta_f / Fm\n",
    "print('Modulation Index = ',Fne_mode_index_Bf)\n",
    "print('C')\n",
    "phase_modulation_index = mt_max_value * womcca\n",
    "print('phase_modulation_index = ',phase_modulation_index)"
   ]
  },
  {
   "cell_type": "markdown",
   "id": "6cd1a70d-cb35-44f4-9bdf-4ed1f3a68bf9",
   "metadata": {},
   "source": [
    "# 10. If GSM uses a frame structure where each frame consists of eight time slots, and each \n",
    "time slot contains 156.25 bits, and data is transmitted at 270.833 kbps in the channel, find \n",
    "(a) the time duration of a bit, \n",
    "(b) the time duration of a slot, \n",
    "(c) the time duration of a \n",
    "frame, and \n",
    "(d) how long must a user occupying a single time slot wait between two \n",
    "successive transmissions."
   ]
  },
  {
   "cell_type": "code",
   "execution_count": 68,
   "id": "24045d55-c81c-4666-806a-1a0a0e63464b",
   "metadata": {},
   "outputs": [
    {
     "name": "stdout",
     "output_type": "stream",
     "text": [
      "A\n",
      "time_duration_of_a_bit_tb =  0.0036923122366919834\n",
      "B\n",
      "time_duration_of_a_slot_ts =  0.5769237869831224\n",
      "C\n",
      "time_duration_of_a_frame_tf =  4.615390295864979\n"
     ]
    }
   ],
   "source": [
    "trans_data =270.833;\n",
    "each_time_slot_bit =156.25;\n",
    "Num_time_slot =8;\n",
    "\n",
    "print('A')\n",
    "time_duration_of_a_bit_tb = (1/trans_data);\n",
    "print('time_duration_of_a_bit_tb = ',time_duration_of_a_bit_tb)\n",
    "\n",
    "print('B')\n",
    "time_duration_of_a_slot_ts = (each_time_slot_bit * time_duration_of_a_bit_tb) \n",
    "print('time_duration_of_a_slot_ts = ',time_duration_of_a_slot_ts)\n",
    "\n",
    "print('C')\n",
    "time_duration_of_a_frame_tf = time_duration_of_a_slot_ts * Num_time_slot ;\n",
    "print('time_duration_of_a_frame_tf = ',time_duration_of_a_frame_tf)"
   ]
  },
  {
   "cell_type": "markdown",
   "id": "5da1ce1e-c41f-4f8f-8ab0-a1873fa25e48",
   "metadata": {},
   "source": [
    "# 11. A normal GSM has 3 start bits, 3 stop bits, 26 training bits for allowing adaptive \n",
    "equalization, 8.25 guard bits, and 2 bursts of 58 bits of encrypted data which is \n",
    "transmitted at 270.833 kbps in the channel. Find (a) number of overhead bits per frame, \n",
    "boh ;(b) Total number of bits/frame; (c) Frame rate; (d) Time duration of a slot; (e) Frame \n",
    "efficiency."
   ]
  },
  {
   "cell_type": "code",
   "execution_count": null,
   "id": "ee87a354-389f-4231-9278-dec570448005",
   "metadata": {},
   "outputs": [],
   "source": [
    "tra_fne = 270.833\n",
    "num_of_bit_each_time_slot = (6+8.25+26+2*58)\n",
    "\n",
    "print('A')\n",
    "boh = (8*6+8*8.25+8*26)\n",
    "print('BOH',boh)\n",
    "\n",
    "print('B')\n",
    "num_of_bits_per_frame =(8*num_of_bit_each_time_slot )\n",
    "print('num_of_bits_per_frame = ',num_of_bits_per_frame)\n",
    "\n",
    "print('C')\n",
    "frame_rate = (tra_fne / num_of_bits_per_frame )*1000\n",
    "print('frame_rate = ',frame_rate)\n",
    "\n",
    "print('D')\n",
    "time_duration_of_a_slot =(num_of_bit_each_time_slot )*(1/tra_fne)*1000\n",
    "print('time_duration_of_a_slot = ',time_duration_of_a_slot)\n",
    "\n",
    "print('E')\n",
    "frame_efficiency = (1-(boh ) / (num_of_bits_per_frame ))*100\n",
    "print('frame_efficiency = ',frame_efficiency,'%')\n",
    "\n",
    "\n"
   ]
  },
  {
   "cell_type": "code",
   "execution_count": null,
   "id": "6b7400a2-82d7-4ec9-8aac-72f1d2acad58",
   "metadata": {},
   "outputs": [],
   "source": []
  },
  {
   "cell_type": "code",
   "execution_count": null,
   "id": "cd1ec919-3ecc-4ae6-9bc2-941fc2c74bd3",
   "metadata": {},
   "outputs": [],
   "source": []
  },
  {
   "cell_type": "code",
   "execution_count": null,
   "id": "d0b511ce-f8cd-45e1-b955-6fbbc256bb43",
   "metadata": {},
   "outputs": [],
   "source": []
  },
  {
   "cell_type": "code",
   "execution_count": null,
   "id": "65706df5-21d5-4eda-a205-59dbc37a1e07",
   "metadata": {},
   "outputs": [],
   "source": []
  },
  {
   "cell_type": "code",
   "execution_count": null,
   "id": "ce07ccec-b860-4d76-b227-d08651f5da03",
   "metadata": {},
   "outputs": [],
   "source": []
  },
  {
   "cell_type": "code",
   "execution_count": null,
   "id": "1d58341f-742a-4f0a-90e0-b6f730f39941",
   "metadata": {},
   "outputs": [],
   "source": []
  },
  {
   "cell_type": "code",
   "execution_count": null,
   "id": "6a472079-4494-443b-bfa4-a9a043f3eb6b",
   "metadata": {},
   "outputs": [],
   "source": []
  },
  {
   "cell_type": "code",
   "execution_count": null,
   "id": "04290654-6c72-47e0-b0d3-fdb190fc955c",
   "metadata": {},
   "outputs": [],
   "source": []
  },
  {
   "cell_type": "code",
   "execution_count": null,
   "id": "42a13475-f3b1-4677-bd2b-13bbd1ae3a06",
   "metadata": {},
   "outputs": [],
   "source": []
  },
  {
   "cell_type": "code",
   "execution_count": null,
   "id": "c0ff34f5-d8a1-4801-8984-ed9390841354",
   "metadata": {},
   "outputs": [],
   "source": []
  }
 ],
 "metadata": {
  "kernelspec": {
   "display_name": "Python 3 (ipykernel)",
   "language": "python",
   "name": "python3"
  },
  "language_info": {
   "codemirror_mode": {
    "name": "ipython",
    "version": 3
   },
   "file_extension": ".py",
   "mimetype": "text/x-python",
   "name": "python",
   "nbconvert_exporter": "python",
   "pygments_lexer": "ipython3",
   "version": "3.9.10"
  },
  "widgets": {
   "application/vnd.jupyter.widget-state+json": {
    "state": {},
    "version_major": 2,
    "version_minor": 0
   }
  }
 },
 "nbformat": 4,
 "nbformat_minor": 5
}
